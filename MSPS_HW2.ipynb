{
 "cells": [
  {
   "cell_type": "markdown",
   "metadata": {},
   "source": [
    "# Проверка гипотез"
   ]
  },
  {
   "cell_type": "markdown",
   "metadata": {},
   "source": [
    "## Задача 3"
   ]
  },
  {
   "cell_type": "code",
   "execution_count": 16,
   "metadata": {},
   "outputs": [],
   "source": [
    "import matplotlib.pyplot as plt\n",
    "import numpy as np\n",
    "import pandas as pd\n",
    "\n",
    "%matplotlib inline"
   ]
  },
  {
   "cell_type": "code",
   "execution_count": 17,
   "metadata": {},
   "outputs": [],
   "source": [
    "sample = np.load('data2.3.npy')"
   ]
  },
  {
   "cell_type": "markdown",
   "metadata": {},
   "source": [
    "Мы проверпяем гипотезу $H_0: $ выборка имеет распределение $Geom(p)$ против альтернативы $H_1: Poiss(\\lambda)$. Пусть номер в таблице курса = 3. Тогда априорное распределение для пуассоновского распределения - $U[0, 3].$\n",
    "\n",
    "Получим статистику $K$ для байесовского подхода (считаем, что плотность геометрического распределения $(1-p)^{n-1}\\cdot p$): \n",
    "$$K = \\frac{N \\cdot n^{\\sum_{i=1}^{n}X_i+1}\\cdot\\prod_{i=1}^{n}(X_i!)\\cdot B(n+1,\\sum_{i=1}^{n}X_i-n+1)}{ \\Gamma(\\sum_{i=1}^{n}X_i+1)}$$\n",
    "\n",
    "Для простоты рассмотрим логарифм статистики $K$."
   ]
  },
  {
   "cell_type": "code",
   "execution_count": 18,
   "metadata": {},
   "outputs": [],
   "source": [
    "import scipy.special as sp"
   ]
  },
  {
   "cell_type": "code",
   "execution_count": 19,
   "metadata": {},
   "outputs": [],
   "source": [
    "def log_K(samp):\n",
    "    n = samp.shape[0]\n",
    "    return np.log(3) + (np.sum(samp) + 1) * np.log(n) + np.sum(np.log(sp.factorial(samp))) - sp.gammaln(np.sum(samp) + 1) + sp.betaln(n + 1, np.sum(samp) - n + 1)"
   ]
  },
  {
   "cell_type": "code",
   "execution_count": 20,
   "metadata": {},
   "outputs": [],
   "source": [
    "K = np.exp(log_K(sample))"
   ]
  },
  {
   "cell_type": "code",
   "execution_count": 21,
   "metadata": {},
   "outputs": [
    {
     "name": "stdout",
     "output_type": "stream",
     "text": [
      "3443.7629268192777\n"
     ]
    }
   ],
   "source": [
    "print(K)"
   ]
  },
  {
   "cell_type": "code",
   "execution_count": 41,
   "metadata": {},
   "outputs": [
    {
     "name": "stderr",
     "output_type": "stream",
     "text": [
      "/Users/anna/opt/anaconda3/lib/python3.7/site-packages/ipykernel_launcher.py:5: RuntimeWarning: overflow encountered in exp\n",
      "  \"\"\"\n"
     ]
    }
   ],
   "source": [
    "many_K = np.zeros(10000)\n",
    "for i in range (10000):\n",
    "    param = np.random.uniform(0, 1)\n",
    "    geom_samp = np.random.geometric(param, size=sample.shape[0])\n",
    "    if np.exp(log_K(geom_samp)) < np.inf:\n",
    "        many_K[i] = log_K(geom_samp)"
   ]
  },
  {
   "cell_type": "code",
   "execution_count": 50,
   "metadata": {},
   "outputs": [],
   "source": [
    "def quantiles(q, many_K):\n",
    "    return sorted(many_K)[int(q*10000)]"
   ]
  },
  {
   "cell_type": "code",
   "execution_count": 51,
   "metadata": {},
   "outputs": [
    {
     "name": "stdout",
     "output_type": "stream",
     "text": [
      "192.90500280600634\n",
      "317.8091313831392\n",
      "583.7129527734432\n"
     ]
    }
   ],
   "source": [
    "for q in [0.9, 0.95, 0.99]:\n",
    "    print(quantiles(q, many_K))"
   ]
  },
  {
   "cell_type": "markdown",
   "metadata": {},
   "source": [
    "Таким образом, все значения меньше полученного $K$, а значит, мы принимаем гипотезу $H_0$ о том, что выборка имеет распределение $Geom(p).$"
   ]
  },
  {
   "cell_type": "code",
   "execution_count": null,
   "metadata": {},
   "outputs": [],
   "source": []
  }
 ],
 "metadata": {
  "kernelspec": {
   "display_name": "Python 3",
   "language": "python",
   "name": "python3"
  },
  "language_info": {
   "codemirror_mode": {
    "name": "ipython",
    "version": 3
   },
   "file_extension": ".py",
   "mimetype": "text/x-python",
   "name": "python",
   "nbconvert_exporter": "python",
   "pygments_lexer": "ipython3",
   "version": "3.7.4"
  }
 },
 "nbformat": 4,
 "nbformat_minor": 2
}
