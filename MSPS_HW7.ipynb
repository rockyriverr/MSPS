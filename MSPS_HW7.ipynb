{
 "cells": [
  {
   "cell_type": "markdown",
   "metadata": {},
   "source": [
    "# ANOVA"
   ]
  },
  {
   "cell_type": "markdown",
   "metadata": {},
   "source": [
    "## Задача 2"
   ]
  },
  {
   "cell_type": "markdown",
   "metadata": {},
   "source": [
    "Рассмотрим модель $X_{ij} = \\mu + \\alpha_i + \\beta_j + \\xi_{ij}$. Будем проверять ошибки на нормальность следующим образом:\n",
    "* Сначала вычтем из каждого элемента глобальное среднее (избавимся от $\\mu$)\n",
    "* Из каждого элемента $X_{ij}$ вычтем $\\overline{X_i}$ (среднее по строке), чем уберём влияние особенностей $i$-го объекта ($\\alpha_i$)\n",
    "* Из каждого элемента $X_{ij}$ вычтем $\\overline{X_j}$ (среднее по столбцу), чем избавимся от влияния $j$-го уровня фактора ($\\beta_j$)\n",
    "* Полученные значения проверим на нормальность одним из имеющихся критериев (sps.shapiro, sps.normaltest, sps.jarque_bera и т.д.)"
   ]
  },
  {
   "cell_type": "markdown",
   "metadata": {},
   "source": [
    "## Задача 3"
   ]
  },
  {
   "cell_type": "code",
   "execution_count": 1,
   "metadata": {},
   "outputs": [],
   "source": [
    "import numpy as np\n",
    "import matplotlib.pyplot as plt\n",
    "import scipy.stats as sps\n",
    "import pandas as pd\n",
    "import ast\n",
    "import seaborn as sns\n",
    "%matplotlib inline"
   ]
  },
  {
   "cell_type": "code",
   "execution_count": 2,
   "metadata": {},
   "outputs": [],
   "source": [
    "with open('hw7t3.txt', 'r') as fl:\n",
    "    data = np.array(eval(fl.read()))"
   ]
  },
  {
   "cell_type": "code",
   "execution_count": 3,
   "metadata": {},
   "outputs": [],
   "source": [
    "data = np.array(data)"
   ]
  },
  {
   "cell_type": "code",
   "execution_count": 4,
   "metadata": {},
   "outputs": [
    {
     "data": {
      "text/plain": [
       "array(['Analgine', 'Codeine', 'Iodomarine', 'Irunine', 'Mildronate',\n",
       "       'Permetrine'], dtype='<U13')"
      ]
     },
     "execution_count": 4,
     "metadata": {},
     "output_type": "execute_result"
    }
   ],
   "source": [
    "np.unique(data[:, 1])"
   ]
  },
  {
   "cell_type": "code",
   "execution_count": 5,
   "metadata": {},
   "outputs": [],
   "source": [
    "X1 = np.array(data[:,2][data[:,1] == 'Analgine'].astype(np.float64))\n",
    "X2 = np.array(data[:,2][data[:,1] == 'Codeine'].astype(np.float64))\n",
    "X3 = np.array(data[:,2][data[:,1] == 'Iodomarine'].astype(np.float64))\n",
    "X4 = np.array(data[:,2][data[:,1] == 'Irunine'].astype(np.float64))\n",
    "X5 = np.array(data[:,2][data[:,1] == 'Mildronate'].astype(np.float64))\n",
    "X6 = np.array(data[:,2][data[:,1] == 'Permetrine'].astype(np.float64))"
   ]
  },
  {
   "cell_type": "markdown",
   "metadata": {},
   "source": [
    "Посмотрим на данные."
   ]
  },
  {
   "cell_type": "code",
   "execution_count": 6,
   "metadata": {},
   "outputs": [
    {
     "data": {
      "image/png": "[encoded data removed]",
      "text/plain": [
       "<Figure size 576x504 with 1 Axes>"
      ]
     },
     "metadata": {
      "needs_background": "light"
     },
     "output_type": "display_data"
    }
   ],
   "source": [
    "plt.figure(figsize=(8, 7))\n",
    "sns.boxplot(data=[X1, X2, X3, X4, X5, X6])\n",
    "plt.xlabel('Drugs')\n",
    "plt.ylabel('Time')\n",
    "plt.show()"
   ]
  },
  {
   "cell_type": "code",
   "execution_count": 7,
   "metadata": {},
   "outputs": [
    {
     "data": {
      "text/plain": [
       "NormaltestResult(statistic=3.3014439715103467, pvalue=0.19191130136470072)"
      ]
     },
     "execution_count": 7,
     "metadata": {},
     "output_type": "execute_result"
    }
   ],
   "source": [
    "sps.normaltest(data[:, 2].astype(np.float64))"
   ]
  },
  {
   "cell_type": "code",
   "execution_count": 8,
   "metadata": {},
   "outputs": [
    {
     "name": "stdout",
     "output_type": "stream",
     "text": [
      "(30,) 73.31222222222223\n",
      "(23,) 12.752362948960304\n",
      "(29,) 49.429250891795476\n",
      "(21,) 47.95011337868481\n",
      "(24,) 94.81770833333333\n",
      "(24,) 93.44270833333333\n"
     ]
    }
   ],
   "source": [
    "print(X1.shape, np.var(X1))\n",
    "print(X2.shape, np.var(X2))\n",
    "print(X3.shape, np.var(X3))\n",
    "print(X4.shape, np.var(X4))\n",
    "print(X5.shape, np.var(X5))\n",
    "print(X6.shape, np.var(X6))"
   ]
  },
  {
   "cell_type": "markdown",
   "metadata": {},
   "source": [
    "Видим, что отношение наибольшей выборочной дисперсии к наименьшей не превосходит 10, а объёмы выборок примерно одинаковы.\n",
    "$N - k - 1 = 151 - 6 - 1 - 144 > 20 \\Rightarrow$ предположения метода выполнены."
   ]
  },
  {
   "cell_type": "code",
   "execution_count": 9,
   "metadata": {},
   "outputs": [
    {
     "data": {
      "text/plain": [
       "F_onewayResult(statistic=3.4492042716869205, pvalue=0.005643006932348378)"
      ]
     },
     "execution_count": 9,
     "metadata": {},
     "output_type": "execute_result"
    }
   ],
   "source": [
    "sps.f_oneway(X1, X2, X3, X4, X5, X6)"
   ]
  },
  {
   "cell_type": "code",
   "execution_count": 10,
   "metadata": {},
   "outputs": [],
   "source": [
    "from statsmodels.stats.multicomp import pairwise_tukeyhsd"
   ]
  },
  {
   "cell_type": "markdown",
   "metadata": {},
   "source": [
    "Таким образом, используя критерий Фишера, мы отвергаем гипотезу о равенстве средних на уровне 0.05.\n",
    "\n",
    "Теперь рассмотрим попарно:"
   ]
  },
  {
   "cell_type": "code",
   "execution_count": 11,
   "metadata": {},
   "outputs": [
    {
     "name": "stdout",
     "output_type": "stream",
     "text": [
      "     Multiple Comparison of Means - Tukey HSD, FWER=0.05     \n",
      "=============================================================\n",
      "  group1     group2   meandiff p-adj   lower    upper  reject\n",
      "-------------------------------------------------------------\n",
      "  Analgine    Codeine  -7.6072  0.011 -14.0698 -1.1447   True\n",
      "  Analgine Iodomarine  -3.5713   0.53  -9.6436  2.5011  False\n",
      "  Analgine    Irunine  -5.0524 0.2442 -11.6868   1.582  False\n",
      "  Analgine Mildronate  -0.0583    0.9  -6.4442  6.3275  False\n",
      "  Analgine Permetrine  -1.3083    0.9  -7.6942  5.0775  False\n",
      "   Codeine Iodomarine    4.036 0.4761  -2.4747 10.5467  False\n",
      "   Codeine    Irunine   2.5549    0.9   -4.483  9.5927  False\n",
      "   Codeine Mildronate   7.5489 0.0203   0.7449  14.353   True\n",
      "   Codeine Permetrine   6.2989 0.0871  -0.5051  13.103  False\n",
      "Iodomarine    Irunine  -1.4811    0.9  -8.1625  5.2002  False\n",
      "Iodomarine Mildronate   3.5129 0.5996  -2.9217  9.9475  False\n",
      "Iodomarine Permetrine   2.2629    0.9  -4.1717  8.6975  False\n",
      "   Irunine Mildronate    4.994 0.3088  -1.9735 11.9616  False\n",
      "   Irunine Permetrine    3.744 0.6138  -3.2235 10.7116  False\n",
      "Mildronate Permetrine    -1.25    0.9  -7.9813  5.4813  False\n",
      "-------------------------------------------------------------\n"
     ]
    }
   ],
   "source": [
    "print(pairwise_tukeyhsd(data[:, 2].astype(np.float32), data[:, 1], alpha=0.05))"
   ]
  },
  {
   "cell_type": "markdown",
   "metadata": {},
   "source": [
    "Выходит, что все лекарства действуют так же как ирунин, он же плацебо, а значит, лекарства не дают положительного эффекта."
   ]
  },
  {
   "cell_type": "markdown",
   "metadata": {},
   "source": [
    "## Задача 4"
   ]
  },
  {
   "cell_type": "code",
   "execution_count": 12,
   "metadata": {},
   "outputs": [
    {
     "data": {
      "text/plain": [
       "(250, 3)"
      ]
     },
     "execution_count": 12,
     "metadata": {},
     "output_type": "execute_result"
    }
   ],
   "source": [
    "data = np.load('hw7t4.npy')\n",
    "data.shape"
   ]
  },
  {
   "cell_type": "code",
   "execution_count": 13,
   "metadata": {},
   "outputs": [
    {
     "data": {
      "text/plain": [
       "array([0., 1., 2., 3., 4.])"
      ]
     },
     "execution_count": 13,
     "metadata": {},
     "output_type": "execute_result"
    }
   ],
   "source": [
    "np.unique(data[:, 0])"
   ]
  },
  {
   "cell_type": "code",
   "execution_count": 14,
   "metadata": {},
   "outputs": [
    {
     "data": {
      "text/plain": [
       "array([0., 1., 2., 3., 4.])"
      ]
     },
     "execution_count": 14,
     "metadata": {},
     "output_type": "execute_result"
    }
   ],
   "source": [
    "np.unique(data[:, 1])"
   ]
  },
  {
   "cell_type": "code",
   "execution_count": 15,
   "metadata": {},
   "outputs": [],
   "source": [
    "from statsmodels.stats.multitest import multipletests"
   ]
  },
  {
   "cell_type": "markdown",
   "metadata": {},
   "source": [
    "Приведём данные к удобному представлению и проверим выборки на нормальность и равенство дисперсий."
   ]
  },
  {
   "cell_type": "code",
   "execution_count": 16,
   "metadata": {},
   "outputs": [
    {
     "data": {
      "text/plain": [
       "array([False, False, False, False, False, False, False, False, False,\n",
       "       False, False, False, False, False, False, False, False, False,\n",
       "       False, False, False, False, False, False, False])"
      ]
     },
     "execution_count": 16,
     "metadata": {},
     "output_type": "execute_result"
    }
   ],
   "source": [
    "X = np.zeros((5, 5, 10))\n",
    "pvals = np.zeros(25)\n",
    "for i in range(5):\n",
    "    for j in range(5):\n",
    "        data_i = data[data[:, 0] == i]\n",
    "        X[i][j] = data_i[data_i[:, 1] == j][:, 2]\n",
    "        std = X[i][j].std()\n",
    "        mean = X[i][j].mean()\n",
    "        pvals[i*5 + j] = sps.kstest(X[i][j], sps.norm(loc=mean, scale=std).cdf)[1]\n",
    "multipletests(pvals, alpha=0.05, method='holm')[0]"
   ]
  },
  {
   "cell_type": "code",
   "execution_count": 17,
   "metadata": {},
   "outputs": [
    {
     "data": {
      "text/plain": [
       "BartlettResult(statistic=63.86139765108315, pvalue=1.7853006082480802e-05)"
      ]
     },
     "execution_count": 17,
     "metadata": {},
     "output_type": "execute_result"
    }
   ],
   "source": [
    "sps.bartlett(*np.vstack((X[0], X[1], X[2], X[3], X[4])))"
   ]
  },
  {
   "cell_type": "code",
   "execution_count": 18,
   "metadata": {},
   "outputs": [
    {
     "name": "stdout",
     "output_type": "stream",
     "text": [
      "2.459530702713452\n",
      "1.7556442378221226\n",
      "2.345612354967821\n",
      "2.6224114049528278\n",
      "2.5784747029901185\n"
     ]
    }
   ],
   "source": [
    "print(np.var(X[0]))\n",
    "print(np.var(X[1]))\n",
    "print(np.var(X[2]))\n",
    "print(np.var(X[3]))\n",
    "print(np.var(X[4]))"
   ]
  },
  {
   "cell_type": "markdown",
   "metadata": {},
   "source": [
    "Таким образом, принимаем гипотезу о нормальности выборок, но отвергаем гипотезу о равенстве дисперсий на уровне значимости 0.05. Но диспесии отличаются не очень сильно, да и у нас нет ничего, кроме критерия Фишера, так что будем пользоваться им."
   ]
  },
  {
   "cell_type": "code",
   "execution_count": 30,
   "metadata": {},
   "outputs": [],
   "source": [
    "n = 10\n",
    "m = 5\n",
    "k = 5"
   ]
  },
  {
   "cell_type": "code",
   "execution_count": 31,
   "metadata": {},
   "outputs": [],
   "source": [
    "X_j = np.mean(X, axis=2).mean(axis=1)\n",
    "X_l = np.mean(X, axis=2).mean(axis=0)\n",
    "X_jl = np.mean(X, axis = 2)\n",
    "X_mean = np.mean(X)"
   ]
  },
  {
   "cell_type": "code",
   "execution_count": 32,
   "metadata": {},
   "outputs": [],
   "source": [
    "S1 = n*m / (k-1) * np.sum((X_j - X_mean)**2)\n",
    "S2 = n*k / (m-1) * np.sum((X_l - X_mean)**2)\n",
    "S12 = n / ((k-1)*(m-1)) * np.sum((X_jl - X_j[:,np.newaxis] - X_l[np.newaxis:,] + X_mean)**2)\n",
    "S_int = 1 / (k * m * (n-1)) * np.sum((X - X_jl[:,:,np.newaxis])**2)"
   ]
  },
  {
   "cell_type": "code",
   "execution_count": 33,
   "metadata": {},
   "outputs": [],
   "source": [
    "F1 = S1 / S_int\n",
    "F2 = S2 / S_int\n",
    "F12 = S12 / S_int"
   ]
  },
  {
   "cell_type": "code",
   "execution_count": 34,
   "metadata": {},
   "outputs": [],
   "source": [
    "pvals = np.zeros(3)\n",
    "pvals[0] = sps.f.sf(F1, k-1, k * m * (n-1))\n",
    "pvals[1] = sps.f.sf(F2, m-1, k * m * (n-1))\n",
    "pvals[2] = sps.f.sf(F12, (k-1) * (m-1), k * m * (n-1))"
   ]
  },
  {
   "cell_type": "code",
   "execution_count": 35,
   "metadata": {},
   "outputs": [
    {
     "data": {
      "text/plain": [
       "array([ True,  True, False])"
      ]
     },
     "execution_count": 35,
     "metadata": {},
     "output_type": "execute_result"
    }
   ],
   "source": [
    "multipletests(pvals, alpha=0.05, method='holm')[0]"
   ]
  },
  {
   "cell_type": "markdown",
   "metadata": {},
   "source": [
    "Получаем, что оба фактора влияют на значения признака, но между ними нет взаимодействия (на уровне значимости 0.05)."
   ]
  },
  {
   "cell_type": "code",
   "execution_count": null,
   "metadata": {},
   "outputs": [],
   "source": []
  }
 ],
 "metadata": {
  "kernelspec": {
   "display_name": "Python 3",
   "language": "python",
   "name": "python3"
  },
  "language_info": {
   "codemirror_mode": {
    "name": "ipython",
    "version": 3
   },
   "file_extension": ".py",
   "mimetype": "text/x-python",
   "name": "python",
   "nbconvert_exporter": "python",
   "pygments_lexer": "ipython3",
   "version": "3.7.4"
  }
 },
 "nbformat": 4,
 "nbformat_minor": 2
}
